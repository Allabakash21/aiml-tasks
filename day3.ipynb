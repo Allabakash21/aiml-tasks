{
 "cells": [
  {
   "cell_type": "code",
   "execution_count": 2,
   "id": "aa1d0548-806f-4c13-be98-770fe7510a08",
   "metadata": {},
   "outputs": [
    {
     "name": "stdout",
     "output_type": "stream",
     "text": [
      "even\n"
     ]
    }
   ],
   "source": [
    "a=int(input())\n",
    "if a%2==0:\n",
    "    print(\"even\")\n",
    "else:\n",
    "    print(\"odd\")"
   ]
  },
  {
   "cell_type": "code",
   "execution_count": 6,
   "id": "bff4cda9-c897-482e-a9d3-482f65e48af8",
   "metadata": {},
   "outputs": [
    {
     "name": "stdout",
     "output_type": "stream",
     "text": [
      "negative\n"
     ]
    }
   ],
   "source": [
    "x=int(input())\n",
    "r=\"positive\" if x>0 else \"negative\"\n",
    "print(r)"
   ]
  },
  {
   "cell_type": "code",
   "execution_count": 12,
   "id": "b8da38e8-1055-4afd-949b-ae85be5e1ee0",
   "metadata": {},
   "outputs": [
    {
     "name": "stdin",
     "output_type": "stream",
     "text": [
      " 19\n"
     ]
    },
    {
     "name": "stdout",
     "output_type": "stream",
     "text": [
      "Adult\n"
     ]
    }
   ],
   "source": [
    "b=int(input())\n",
    "c=\"Adult\" if b>=18 else \"Minor\"\n",
    "print(c)"
   ]
  },
  {
   "cell_type": "markdown",
   "id": "c08add64-703e-48a1-a5af-99e8ba2d9a96",
   "metadata": {},
   "source": []
  },
  {
   "cell_type": "code",
   "execution_count": 15,
   "id": "a53eb775-4d36-45d2-95d2-54dbd43a9193",
   "metadata": {},
   "outputs": [
    {
     "name": "stdin",
     "output_type": "stream",
     "text": [
      " 0\n"
     ]
    },
    {
     "name": "stdout",
     "output_type": "stream",
     "text": [
      "zero\n"
     ]
    }
   ],
   "source": [
    "z=int(input())\n",
    "y=\"positive\" if z>0 else \"negative\" if z<0 else \"zero\"\n",
    "print(y)"
   ]
  },
  {
   "cell_type": "code",
   "execution_count": 3,
   "id": "51626b23-0036-4198-be41-5e944ae5f39a",
   "metadata": {},
   "outputs": [
    {
     "name": "stdin",
     "output_type": "stream",
     "text": [
      "enter: 7\n"
     ]
    },
    {
     "data": {
      "text/plain": [
       "[178, 90, 1578, 18, 48, 108]"
      ]
     },
     "execution_count": 3,
     "metadata": {},
     "output_type": "execute_result"
    }
   ],
   "source": [
    "l=[89,45,789,9,24,54]\n",
    "n=int(input(\"enter:\"))\n",
    "[2*n for n in l]"
   ]
  },
  {
   "cell_type": "code",
   "execution_count": 5,
   "id": "1f4e0c54-e1e3-4c68-89da-9f2135ee7d8b",
   "metadata": {},
   "outputs": [
    {
     "name": "stdin",
     "output_type": "stream",
     "text": [
      "enter: 9\n"
     ]
    },
    {
     "data": {
      "text/plain": [
       "[0.02247191011235955,\n",
       " 0.044444444444444446,\n",
       " 0.0025348542458808617,\n",
       " 0.2222222222222222,\n",
       " 0.08333333333333333,\n",
       " 0.037037037037037035]"
      ]
     },
     "execution_count": 5,
     "metadata": {},
     "output_type": "execute_result"
    }
   ],
   "source": [
    "l=[89,45,789,9,24,54]\n",
    "n=int(input(\"enter:\"))\n",
    "[2/n for n in l]"
   ]
  },
  {
   "cell_type": "code",
   "execution_count": 7,
   "id": "588e6b23-d7d5-47bc-8b0e-96e331c641b5",
   "metadata": {},
   "outputs": [
    {
     "name": "stdin",
     "output_type": "stream",
     "text": [
      "enter: 5\n"
     ]
    },
    {
     "data": {
      "text/plain": [
       "[91, 47, 791, 11, 26, 56]"
      ]
     },
     "execution_count": 7,
     "metadata": {},
     "output_type": "execute_result"
    }
   ],
   "source": [
    "l=[89,45,789,9,24,54]\n",
    "n=int(input(\"enter:\"))\n",
    "[2+n for n in l]"
   ]
  },
  {
   "cell_type": "code",
   "execution_count": 9,
   "id": "f659f3f1-797e-482c-8bf5-d442e7f0e3e0",
   "metadata": {},
   "outputs": [
    {
     "name": "stdin",
     "output_type": "stream",
     "text": [
      "enter: 8\n"
     ]
    },
    {
     "data": {
      "text/plain": [
       "[-87, -43, -787, -7, -22, -52]"
      ]
     },
     "execution_count": 9,
     "metadata": {},
     "output_type": "execute_result"
    }
   ],
   "source": [
    "l=[89,45,789,9,24,54]\n",
    "n=int(input(\"enter:\"))\n",
    "[2-n for n in l]"
   ]
  },
  {
   "cell_type": "code",
   "execution_count": 11,
   "id": "d0b3a566-ac65-4598-8da5-4cf3269a56f4",
   "metadata": {},
   "outputs": [
    {
     "name": "stdin",
     "output_type": "stream",
     "text": [
      "enter: 7\n"
     ]
    },
    {
     "data": {
      "text/plain": [
       "[24, 54]"
      ]
     },
     "execution_count": 11,
     "metadata": {},
     "output_type": "execute_result"
    }
   ],
   "source": [
    "l=[89,45,789,9,24,54]\n",
    "n=int(input(\"enter:\"))\n",
    "[n for n in l if n%2==0]"
   ]
  },
  {
   "cell_type": "code",
   "execution_count": 13,
   "id": "4274a19e-ac56-4814-a4aa-d7bdabd84ec5",
   "metadata": {},
   "outputs": [
    {
     "data": {
      "text/plain": [
       "{'Ram': [45, 66, 89, 89], 'John': [87, 98, 45, 76]}"
      ]
     },
     "execution_count": 13,
     "metadata": {},
     "output_type": "execute_result"
    }
   ],
   "source": [
    "d1={'Ram':[45,66,89,89],'John':[87,98,45,76]}\n",
    "d1"
   ]
  },
  {
   "cell_type": "code",
   "execution_count": 15,
   "id": "063b1dee-c310-4613-b6ba-29cab57b7528",
   "metadata": {},
   "outputs": [
    {
     "data": {
      "text/plain": [
       "{'Ram': 72.25, 'John': 76.5}"
      ]
     },
     "execution_count": 15,
     "metadata": {},
     "output_type": "execute_result"
    }
   ],
   "source": [
    "{k:sum(v)/len(v) for k,v in d1.items()}"
   ]
  },
  {
   "cell_type": "code",
   "execution_count": 17,
   "id": "adb7c503-d0b0-419a-899c-2f5f578e55f3",
   "metadata": {},
   "outputs": [
    {
     "data": {
      "text/plain": [
       "50.666666666666664"
      ]
     },
     "execution_count": 17,
     "metadata": {},
     "output_type": "execute_result"
    }
   ],
   "source": [
    "def j(i):\n",
    "    tot=sum(i)\n",
    "    avg=tot/len(i)\n",
    "    return avg\n",
    "h=[56,87,12,45,6,98]\n",
    "j(h)"
   ]
  },
  {
   "cell_type": "code",
   "execution_count": null,
   "id": "69853aa6-8380-4211-819a-a85c05a0bed2",
   "metadata": {},
   "outputs": [],
   "source": []
  }
 ],
 "metadata": {
  "kernelspec": {
   "display_name": "Python [conda env:base] *",
   "language": "python",
   "name": "conda-base-py"
  },
  "language_info": {
   "codemirror_mode": {
    "name": "ipython",
    "version": 3
   },
   "file_extension": ".py",
   "mimetype": "text/x-python",
   "name": "python",
   "nbconvert_exporter": "python",
   "pygments_lexer": "ipython3",
   "version": "3.12.7"
  }
 },
 "nbformat": 4,
 "nbformat_minor": 5
}
