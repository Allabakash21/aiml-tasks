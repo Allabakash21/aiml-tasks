{
 "cells": [
  {
   "cell_type": "code",
   "execution_count": 39,
   "id": "6fca03fa-6d66-4e2b-b1e1-3ec86754b8df",
   "metadata": {},
   "outputs": [
    {
     "name": "stdout",
     "output_type": "stream",
     "text": [
      "[7, 25]\n",
      "32\n"
     ]
    }
   ],
   "source": [
    "o=[['banana',10],['apple',21],['cherry',7],['dragon',10],['avacado',19],['apple',20],['cherry',25]]\n",
    "e=[]\n",
    "for each in o:\n",
    "    if each[0]=='cherry':\n",
    "        e.append(each[1])\n",
    "print(e)\n",
    "print(sum(e))"
   ]
  },
  {
   "cell_type": "code",
   "execution_count": 81,
   "id": "2fbfeddb-e2b9-42d5-aeff-4c796f70cfc0",
   "metadata": {},
   "outputs": [
    {
     "name": "stdout",
     "output_type": "stream",
     "text": [
      "(3, 5, 9, 10)\n",
      "(10, 20, 30, 'HI')\n",
      "(1, 2, 3, 5, 7)\n",
      "([3, 4, 10], (1, 3, 2), 'Hello', 2102)\n"
     ]
    },
    {
     "data": {
      "text/plain": [
       "2"
      ]
     },
     "execution_count": 81,
     "metadata": {},
     "output_type": "execute_result"
    }
   ],
   "source": [
    "t1=(3,5,9,10)\n",
    "t2=(10,20,30,'HI')\n",
    "t3=tuple([1,2,3,5,7])\n",
    "print(t1)\n",
    "print(t2)\n",
    "print(t3)\n",
    "t4=([3,4,5],(1,3,2),\"Hello\",2102)\n",
    "t4\n",
    "t4[0][2]=10\n",
    "print(t4)\n",
    "t4.index(\"Hello\")\n",
    "#t4.count(3)"
   ]
  },
  {
   "cell_type": "code",
   "execution_count": 83,
   "id": "ffe16194-f6af-4787-9d7e-13a0b09f89d7",
   "metadata": {},
   "outputs": [
    {
     "data": {
      "text/plain": [
       "4"
      ]
     },
     "execution_count": 83,
     "metadata": {},
     "output_type": "execute_result"
    }
   ],
   "source": [
    "t10=(1,2,3,4,43,4,4,3,3,9,3)\n",
    "t10.count(3)"
   ]
  },
  {
   "cell_type": "code",
   "execution_count": 5,
   "id": "134f2ba6-2da3-4f2b-8339-92e61e142b3b",
   "metadata": {},
   "outputs": [
    {
     "name": "stdout",
     "output_type": "stream",
     "text": [
      "{'a': 10, 'b': 20, 'c': 30}\n"
     ]
    }
   ],
   "source": [
    "d=dict(a=10,b=20,c=30)\n",
    "print(d)"
   ]
  },
  {
   "cell_type": "code",
   "execution_count": 7,
   "id": "ffc63c81-5dd6-4125-8019-08fe5b100401",
   "metadata": {},
   "outputs": [
    {
     "name": "stdout",
     "output_type": "stream",
     "text": [
      "{'x': 1, 'y': 2, 'z': 3}\n"
     ]
    }
   ],
   "source": [
    "d1=dict([(\"x\",1),(\"y\",2),(\"z\",3)])\n",
    "print(d1)"
   ]
  },
  {
   "cell_type": "code",
   "execution_count": 9,
   "id": "ba5acfb5-0e6e-454b-8119-4b39b9b15e6e",
   "metadata": {},
   "outputs": [
    {
     "name": "stdout",
     "output_type": "stream",
     "text": [
      "dict_keys(['x', 'y', 'z'])\n",
      "dict_values([1, 2, 3])\n",
      "dict_items([('x', 1), ('y', 2), ('z', 3)])\n"
     ]
    }
   ],
   "source": [
    "print(d1.keys())\n",
    "print(d1.values())\n",
    "print(d1.items())"
   ]
  },
  {
   "cell_type": "code",
   "execution_count": 11,
   "id": "04c5dc8e-7bdd-4623-9184-af75dc080bf4",
   "metadata": {},
   "outputs": [
    {
     "data": {
      "text/plain": [
       "['__class__',\n",
       " '__class_getitem__',\n",
       " '__contains__',\n",
       " '__delattr__',\n",
       " '__delitem__',\n",
       " '__dir__',\n",
       " '__doc__',\n",
       " '__eq__',\n",
       " '__format__',\n",
       " '__ge__',\n",
       " '__getattribute__',\n",
       " '__getitem__',\n",
       " '__getstate__',\n",
       " '__gt__',\n",
       " '__hash__',\n",
       " '__init__',\n",
       " '__init_subclass__',\n",
       " '__ior__',\n",
       " '__iter__',\n",
       " '__le__',\n",
       " '__len__',\n",
       " '__lt__',\n",
       " '__ne__',\n",
       " '__new__',\n",
       " '__or__',\n",
       " '__reduce__',\n",
       " '__reduce_ex__',\n",
       " '__repr__',\n",
       " '__reversed__',\n",
       " '__ror__',\n",
       " '__setattr__',\n",
       " '__setitem__',\n",
       " '__sizeof__',\n",
       " '__str__',\n",
       " '__subclasshook__',\n",
       " 'clear',\n",
       " 'copy',\n",
       " 'fromkeys',\n",
       " 'get',\n",
       " 'items',\n",
       " 'keys',\n",
       " 'pop',\n",
       " 'popitem',\n",
       " 'setdefault',\n",
       " 'update',\n",
       " 'values']"
      ]
     },
     "execution_count": 11,
     "metadata": {},
     "output_type": "execute_result"
    }
   ],
   "source": [
    "dir(dict)"
   ]
  },
  {
   "cell_type": "code",
   "execution_count": 27,
   "id": "2018a2e3-679f-44cc-9442-9fff44581d86",
   "metadata": {},
   "outputs": [
    {
     "data": {
      "text/plain": [
       "{'virat': 81,\n",
       " 'rohit': 40,\n",
       " 'sachin': 100,\n",
       " 'Mccullam': 2000,\n",
       " 'chahal': 55,\n",
       " 'mandhana': 20}"
      ]
     },
     "execution_count": 27,
     "metadata": {},
     "output_type": "execute_result"
    }
   ],
   "source": [
    "s={\"virat\":81,\"rohit\":40,\"sachin\":100,\"Mccullam\":2000,\"chahal\":55}\n",
    "s[\"mandhana\"]=20\n",
    "s"
   ]
  },
  {
   "cell_type": "code",
   "execution_count": 29,
   "id": "1f54ee8b-95e7-44ac-b228-b7d3ddda64da",
   "metadata": {},
   "outputs": [
    {
     "data": {
      "text/plain": [
       "{'virat': 7000,\n",
       " 'rohit': 40,\n",
       " 'sachin': 100,\n",
       " 'Mccullam': 2000,\n",
       " 'chahal': 55,\n",
       " 'mandhana': 20}"
      ]
     },
     "execution_count": 29,
     "metadata": {},
     "output_type": "execute_result"
    }
   ],
   "source": [
    "s.update({\"virat\":7000})\n",
    "s"
   ]
  },
  {
   "cell_type": "code",
   "execution_count": 44,
   "id": "4624ecf2-c4bd-4d54-bcfe-def15a99ee9f",
   "metadata": {},
   "outputs": [
    {
     "data": {
      "text/plain": [
       "{'virat': 7000,\n",
       " 'rohit': 40,\n",
       " 'sachin': 100,\n",
       " 'Mccullam': 2000,\n",
       " 'chahal': 55,\n",
       " 'mandhana': 20,\n",
       " 'Mandhana': 69}"
      ]
     },
     "execution_count": 44,
     "metadata": {},
     "output_type": "execute_result"
    }
   ],
   "source": [
    "s.setdefault(\"mandhana\",69)\n",
    "s"
   ]
  },
  {
   "cell_type": "code",
   "execution_count": 54,
   "id": "76e27d0e-ac6b-4214-ac9e-b7c7045a6271",
   "metadata": {},
   "outputs": [
    {
     "data": {
      "text/plain": [
       "{'virat': 7000,\n",
       " 'rohit': 40,\n",
       " 'sachin': 100,\n",
       " 'Mccullam': 2000,\n",
       " 'chahal': 77,\n",
       " 'mandhana': 20,\n",
       " 'Mandhana': 69}"
      ]
     },
     "execution_count": 54,
     "metadata": {},
     "output_type": "execute_result"
    }
   ],
   "source": [
    "s.update({\"chahal\":77})\n",
    "s"
   ]
  },
  {
   "cell_type": "code",
   "execution_count": 56,
   "id": "8581bf70-f31e-4a0f-9f7c-3737430c062b",
   "metadata": {},
   "outputs": [
    {
     "data": {
      "text/plain": [
       "{'virat': 7000,\n",
       " 'rohit': 40,\n",
       " 'sachin': 100,\n",
       " 'Mccullam': 2000,\n",
       " 'chahal': 77,\n",
       " 'mandhana': 20}"
      ]
     },
     "execution_count": 56,
     "metadata": {},
     "output_type": "execute_result"
    }
   ],
   "source": [
    "s.popitem()\n",
    "s"
   ]
  },
  {
   "cell_type": "code",
   "execution_count": 67,
   "id": "0b7d1b04-7823-4084-bb61-230a508d142f",
   "metadata": {},
   "outputs": [
    {
     "data": {
      "text/plain": [
       "{'virat': 7000, 'rohit': 40, 'sachin': 100, 'Mccullam': 2000, 'chahal': 77}"
      ]
     },
     "execution_count": 67,
     "metadata": {},
     "output_type": "execute_result"
    }
   ],
   "source": [
    "s.pop(\"mandhana\",20)\n",
    "s"
   ]
  },
  {
   "cell_type": "code",
   "execution_count": 69,
   "id": "b3194852-2019-43fd-8e4d-fe39dbd61963",
   "metadata": {},
   "outputs": [
    {
     "data": {
      "text/plain": [
       "2000"
      ]
     },
     "execution_count": 69,
     "metadata": {},
     "output_type": "execute_result"
    }
   ],
   "source": [
    "s.get(\"Mccullam\")"
   ]
  },
  {
   "cell_type": "code",
   "execution_count": 75,
   "id": "aa273ee2-1020-4526-b248-5cbbdc023e0a",
   "metadata": {},
   "outputs": [
    {
     "data": {
      "text/plain": [
       "{'g': 10, 'f': 10, 'h': 10, 'k': 10}"
      ]
     },
     "execution_count": 75,
     "metadata": {},
     "output_type": "execute_result"
    }
   ],
   "source": [
    "a=[\"g\",\"f\",\"h\",\"k\"]\n",
    "b=dict.fromkeys(a,10)\n",
    "b"
   ]
  },
  {
   "cell_type": "code",
   "execution_count": 77,
   "id": "66f31af0-4dc0-487b-914f-517b46fd9f0f",
   "metadata": {},
   "outputs": [
    {
     "data": {
      "text/plain": [
       "{'g': 69, 'f': 79, 'h': 10, 'k': 10}"
      ]
     },
     "execution_count": 77,
     "metadata": {},
     "output_type": "execute_result"
    }
   ],
   "source": [
    "b.update({\"g\":69,\"f\":79})\n",
    "b"
   ]
  },
  {
   "cell_type": "code",
   "execution_count": null,
   "id": "83b8a1b9-0768-479f-9208-8dea3cb64659",
   "metadata": {},
   "outputs": [],
   "source": []
  }
 ],
 "metadata": {
  "kernelspec": {
   "display_name": "Python [conda env:base] *",
   "language": "python",
   "name": "conda-base-py"
  },
  "language_info": {
   "codemirror_mode": {
    "name": "ipython",
    "version": 3
   },
   "file_extension": ".py",
   "mimetype": "text/x-python",
   "name": "python",
   "nbconvert_exporter": "python",
   "pygments_lexer": "ipython3",
   "version": "3.12.7"
  }
 },
 "nbformat": 4,
 "nbformat_minor": 5
}
